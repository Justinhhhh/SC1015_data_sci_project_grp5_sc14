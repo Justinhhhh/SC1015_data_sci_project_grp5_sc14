{
 "cells": [
  {
   "cell_type": "markdown",
   "id": "00773468",
   "metadata": {
    "id": "00773468"
   },
   "source": [
    "# Data Cleaning"
   ]
  },
  {
   "cell_type": "code",
   "execution_count": 1,
   "id": "6b4a4a01",
   "metadata": {},
   "outputs": [],
   "source": [
    "import numpy as np\n",
    "import pandas as pd\n",
    "import seaborn as sns\n",
    "import matplotlib.pyplot as plt\n",
    "from sklearn.metrics import confusion_matrix\n",
    "from sklearn.model_selection import train_test_split\n",
    "from sklearn.linear_model import LogisticRegression\n",
    "from sklearn.svm import LinearSVC\n",
    "import matplotlib.pyplot as plt\n",
    "import plotly.express as px\n",
    "import sklearn.metrics as metrics\n",
    "from sklearn.metrics import classification_report\n",
    "from sklearn.metrics import confusion_matrix\n",
    "from sklearn.metrics import plot_confusion_matrix\n",
    "from sklearn.metrics import precision_recall_fscore_support as score\n",
    "from sklearn.metrics import roc_curve, auc, roc_auc_score \n",
    "\n",
    "import warnings\n",
    "warnings.filterwarnings(\"ignore\")\n",
    "sns.set() \n",
    "star_data = pd.read_csv('nasa.csv')\n",
    "\n",
    "star_data_dropped_1 = star_data.drop([\"Neo Reference ID\",\"Name\",\"Est Dia in KM(min)\",\"Est Dia in KM(max)\",\"Est Dia in Miles(min)\",\"Est Dia in Miles(max)\",\"Est Dia in Feet(min)\",\"Est Dia in Feet(max)\",\"Close Approach Date\",\"Relative Velocity km per hr\",\"Orbit ID\",\"Orbit Determination Date\",\"Miles per hour\",\"Miss Dist.(Astronomical)\",\"Miss Dist.(lunar)\",\"Miss Dist.(miles)\",\"Epoch Date Close Approach\"],axis=1)\n",
    "star_data_dropped2 = star_data_dropped_1.drop(columns=['Orbiting Body', 'Equinox'])\n",
    "star_data_dropped3 = star_data_dropped2.drop(columns=['Epoch Osculation'], axis=1)\n",
    "star_data_dropped4 = star_data_dropped3.drop(columns=['Est Dia in M(min)', 'Orbital Period'], axis=1)\n",
    "\n",
    "\n",
    "def plot_roc_curve(fpr, tpr):\n",
    "    plt.plot(fpr,tpr, color = 'green', label = 'ROC')\n",
    "    plt.plot([0, 1], [0, 1], color = 'purple', linestyle = '--')\n",
    "    plt.xlabel('False Positive Rate')\n",
    "    plt.ylabel('True Positive Rate')\n",
    "    plt.title('ROC Curve')\n",
    "    plt.legend()\n",
    "    plt.show()"
   ]
  },
  {
   "cell_type": "markdown",
   "id": "c3687e76",
   "metadata": {
    "id": "c3687e76"
   },
   "source": [
    "# Can we predict the size of asteroid using its other measurements through linear regression?"
   ]
  },
  {
   "cell_type": "markdown",
   "id": "62936f6c",
   "metadata": {},
   "source": [
    "## Linear Regression without skewness correction"
   ]
  },
  {
   "cell_type": "code",
   "execution_count": 2,
   "id": "584466ac",
   "metadata": {
    "id": "584466ac",
    "outputId": "6ac560a7-1ddf-486c-9db6-747553c6fc78"
   },
   "outputs": [
    {
     "data": {
      "text/html": [
       "<div>\n",
       "<style scoped>\n",
       "    .dataframe tbody tr th:only-of-type {\n",
       "        vertical-align: middle;\n",
       "    }\n",
       "\n",
       "    .dataframe tbody tr th {\n",
       "        vertical-align: top;\n",
       "    }\n",
       "\n",
       "    .dataframe thead th {\n",
       "        text-align: right;\n",
       "    }\n",
       "</style>\n",
       "<table border=\"1\" class=\"dataframe\">\n",
       "  <thead>\n",
       "    <tr style=\"text-align: right;\">\n",
       "      <th></th>\n",
       "      <th>Absolute Magnitude</th>\n",
       "      <th>Aphelion Dist</th>\n",
       "      <th>Asc Node Longitude</th>\n",
       "      <th>Eccentricity</th>\n",
       "      <th>Inclination</th>\n",
       "      <th>Jupiter Tisserand Invariant</th>\n",
       "      <th>Mean Anomaly</th>\n",
       "      <th>Mean Motion</th>\n",
       "      <th>Minimum Orbit Intersection</th>\n",
       "      <th>Miss Dist.(kilometers)</th>\n",
       "      <th>Orbit Uncertainity</th>\n",
       "      <th>Perihelion Arg</th>\n",
       "      <th>Perihelion Distance</th>\n",
       "      <th>Perihelion Time</th>\n",
       "      <th>Relative Velocity km per sec</th>\n",
       "      <th>Semi Major Axis</th>\n",
       "    </tr>\n",
       "  </thead>\n",
       "  <tbody>\n",
       "    <tr>\n",
       "      <th>0</th>\n",
       "      <td>21.6</td>\n",
       "      <td>2.005764</td>\n",
       "      <td>314.373913</td>\n",
       "      <td>0.425549</td>\n",
       "      <td>6.025981</td>\n",
       "      <td>4.634</td>\n",
       "      <td>264.837533</td>\n",
       "      <td>0.590551</td>\n",
       "      <td>0.025282</td>\n",
       "      <td>62753692.0</td>\n",
       "      <td>5</td>\n",
       "      <td>57.257470</td>\n",
       "      <td>0.808259</td>\n",
       "      <td>2.458162e+06</td>\n",
       "      <td>6.115834</td>\n",
       "      <td>1.407011</td>\n",
       "    </tr>\n",
       "    <tr>\n",
       "      <th>1</th>\n",
       "      <td>21.3</td>\n",
       "      <td>1.497352</td>\n",
       "      <td>136.717242</td>\n",
       "      <td>0.351674</td>\n",
       "      <td>28.412996</td>\n",
       "      <td>5.457</td>\n",
       "      <td>173.741112</td>\n",
       "      <td>0.845330</td>\n",
       "      <td>0.186935</td>\n",
       "      <td>57298148.0</td>\n",
       "      <td>3</td>\n",
       "      <td>313.091975</td>\n",
       "      <td>0.718200</td>\n",
       "      <td>2.457795e+06</td>\n",
       "      <td>18.113985</td>\n",
       "      <td>1.107776</td>\n",
       "    </tr>\n",
       "    <tr>\n",
       "      <th>2</th>\n",
       "      <td>20.3</td>\n",
       "      <td>1.966857</td>\n",
       "      <td>259.475979</td>\n",
       "      <td>0.348248</td>\n",
       "      <td>4.237961</td>\n",
       "      <td>4.557</td>\n",
       "      <td>292.893654</td>\n",
       "      <td>0.559371</td>\n",
       "      <td>0.043058</td>\n",
       "      <td>7622911.5</td>\n",
       "      <td>0</td>\n",
       "      <td>248.415038</td>\n",
       "      <td>0.950791</td>\n",
       "      <td>2.458120e+06</td>\n",
       "      <td>7.590711</td>\n",
       "      <td>1.458824</td>\n",
       "    </tr>\n",
       "    <tr>\n",
       "      <th>3</th>\n",
       "      <td>27.4</td>\n",
       "      <td>1.527904</td>\n",
       "      <td>57.173266</td>\n",
       "      <td>0.216578</td>\n",
       "      <td>7.905894</td>\n",
       "      <td>5.093</td>\n",
       "      <td>68.741007</td>\n",
       "      <td>0.700277</td>\n",
       "      <td>0.005512</td>\n",
       "      <td>42683616.0</td>\n",
       "      <td>6</td>\n",
       "      <td>18.707701</td>\n",
       "      <td>0.983902</td>\n",
       "      <td>2.457902e+06</td>\n",
       "      <td>11.173874</td>\n",
       "      <td>1.255903</td>\n",
       "    </tr>\n",
       "    <tr>\n",
       "      <th>4</th>\n",
       "      <td>21.6</td>\n",
       "      <td>1.483543</td>\n",
       "      <td>84.629307</td>\n",
       "      <td>0.210448</td>\n",
       "      <td>16.793382</td>\n",
       "      <td>5.154</td>\n",
       "      <td>135.142133</td>\n",
       "      <td>0.726395</td>\n",
       "      <td>0.034798</td>\n",
       "      <td>61010824.0</td>\n",
       "      <td>1</td>\n",
       "      <td>158.263596</td>\n",
       "      <td>0.967687</td>\n",
       "      <td>2.457814e+06</td>\n",
       "      <td>9.840831</td>\n",
       "      <td>1.225615</td>\n",
       "    </tr>\n",
       "  </tbody>\n",
       "</table>\n",
       "</div>"
      ],
      "text/plain": [
       "   Absolute Magnitude  Aphelion Dist  Asc Node Longitude  Eccentricity  \\\n",
       "0                21.6       2.005764          314.373913      0.425549   \n",
       "1                21.3       1.497352          136.717242      0.351674   \n",
       "2                20.3       1.966857          259.475979      0.348248   \n",
       "3                27.4       1.527904           57.173266      0.216578   \n",
       "4                21.6       1.483543           84.629307      0.210448   \n",
       "\n",
       "   Inclination  Jupiter Tisserand Invariant  Mean Anomaly  Mean Motion  \\\n",
       "0     6.025981                        4.634    264.837533     0.590551   \n",
       "1    28.412996                        5.457    173.741112     0.845330   \n",
       "2     4.237961                        4.557    292.893654     0.559371   \n",
       "3     7.905894                        5.093     68.741007     0.700277   \n",
       "4    16.793382                        5.154    135.142133     0.726395   \n",
       "\n",
       "   Minimum Orbit Intersection  Miss Dist.(kilometers)  Orbit Uncertainity  \\\n",
       "0                    0.025282              62753692.0                   5   \n",
       "1                    0.186935              57298148.0                   3   \n",
       "2                    0.043058               7622911.5                   0   \n",
       "3                    0.005512              42683616.0                   6   \n",
       "4                    0.034798              61010824.0                   1   \n",
       "\n",
       "   Perihelion Arg  Perihelion Distance  Perihelion Time  \\\n",
       "0       57.257470             0.808259     2.458162e+06   \n",
       "1      313.091975             0.718200     2.457795e+06   \n",
       "2      248.415038             0.950791     2.458120e+06   \n",
       "3       18.707701             0.983902     2.457902e+06   \n",
       "4      158.263596             0.967687     2.457814e+06   \n",
       "\n",
       "   Relative Velocity km per sec  Semi Major Axis  \n",
       "0                      6.115834         1.407011  \n",
       "1                     18.113985         1.107776  \n",
       "2                      7.590711         1.458824  \n",
       "3                     11.173874         1.255903  \n",
       "4                      9.840831         1.225615  "
      ]
     },
     "execution_count": 2,
     "metadata": {},
     "output_type": "execute_result"
    }
   ],
   "source": [
    "X = star_data_dropped4[star_data_dropped4.columns.difference(['Hazardous', 'Est Dia in M(max)'])]\n",
    "X.head()"
   ]
  },
  {
   "cell_type": "code",
   "execution_count": 3,
   "id": "7826e0f3",
   "metadata": {
    "id": "7826e0f3",
    "outputId": "373bfba3-a676-4a22-8d3f-4c4f1644be53"
   },
   "outputs": [
    {
     "data": {
      "text/plain": [
       "0    284.472297\n",
       "1    326.617897\n",
       "2    517.654482\n",
       "3     19.680675\n",
       "4    284.472297\n",
       "Name: Est Dia in M(max), dtype: float64"
      ]
     },
     "execution_count": 3,
     "metadata": {},
     "output_type": "execute_result"
    }
   ],
   "source": [
    "y = star_data_dropped4['Est Dia in M(max)']\n",
    "y.head()"
   ]
  },
  {
   "cell_type": "code",
   "execution_count": 4,
   "id": "f8f8f9bd",
   "metadata": {
    "id": "f8f8f9bd",
    "outputId": "b75c4d90-60f4-4557-b46e-cb475455ffb7"
   },
   "outputs": [
    {
     "data": {
      "text/plain": [
       "LinearRegression()"
      ]
     },
     "execution_count": 4,
     "metadata": {},
     "output_type": "execute_result"
    }
   ],
   "source": [
    "from sklearn import linear_model\n",
    "X_train, X_test, y_train, y_test = train_test_split(X, y, test_size=0.2, random_state=2)\n",
    "regr = linear_model.LinearRegression()\n",
    "regr.fit(X_train, y_train)"
   ]
  },
  {
   "cell_type": "code",
   "execution_count": 5,
   "id": "08fed92c",
   "metadata": {
    "id": "08fed92c",
    "outputId": "11d751d5-0fb6-4ee9-d9ec-91d3ec1c4e03"
   },
   "outputs": [
    {
     "name": "stdout",
     "output_type": "stream",
     "text": [
      "Intercept: \n",
      " 5518.869265625607\n",
      "Coefficients: \n",
      " [-2.03190333e+02 -1.09105666e+02  2.56995445e-01 -9.46602526e+02\n",
      " -1.07114285e+01 -1.43523216e+03 -1.67692414e-02  4.49309533e+03\n",
      " -3.21863314e+02 -3.40894270e-07  1.64876777e+01  3.22119943e-02\n",
      " -1.66554130e+02  1.78148549e-03  7.31508837e-01 -1.37829886e+02]\n"
     ]
    }
   ],
   "source": [
    "print('Intercept: \\n', regr.intercept_)\n",
    "print('Coefficients: \\n', regr.coef_)"
   ]
  },
  {
   "cell_type": "code",
   "execution_count": 6,
   "id": "5c3efbb5",
   "metadata": {
    "id": "5c3efbb5"
   },
   "outputs": [],
   "source": [
    "y_pred = regr.predict(X_test)"
   ]
  },
  {
   "cell_type": "code",
   "execution_count": 7,
   "id": "965ae362",
   "metadata": {
    "id": "965ae362",
    "outputId": "d7ede854-156d-4218-e188-0e7eee36308f"
   },
   "outputs": [
    {
     "name": "stdout",
     "output_type": "stream",
     "text": [
      "Coefficient of determination: 0.5613097697277392\n",
      "Regression score is 0.3605252710831198\n",
      "Mean squared error: 198986.04990309343 \n",
      "Root Mean Square Error (RMSE) : 446.07852436885304\n"
     ]
    }
   ],
   "source": [
    "print(f'Coefficient of determination: {metrics.r2_score(y_test, y_pred)}')\n",
    "print(f'Regression score is {regr.score(X_train, y_train)}')\n",
    "print(f'Mean squared error: {metrics.mean_squared_error(y_test, y_pred)} ')\n",
    "print(f'Root Mean Square Error (RMSE) : {np.sqrt(metrics.mean_squared_error(y_test, y_pred))}')\n"
   ]
  },
  {
   "cell_type": "code",
   "execution_count": 8,
   "id": "b903577d",
   "metadata": {
    "id": "b903577d",
    "outputId": "715fffd7-c954-4e01-cd1f-6bb86cadc8ff"
   },
   "outputs": [
    {
     "data": {
      "image/png": "[encoded data removed]",
      "text/plain": [
       "<Figure size 432x288 with 1 Axes>"
      ]
     },
     "metadata": {},
     "output_type": "display_data"
    }
   ],
   "source": [
    "plt.scatter(y_test, y_pred)\n",
    "plt.title('y_pred against y_test \\n without skewness corr')\n",
    "plt.xlabel('y_test')\n",
    "plt.ylabel('y_pred')\n",
    "#plt.xlim(0,10000)\n",
    "#plt.ylim(0,10000)\n",
    "\n",
    "plt.show()"
   ]
  },
  {
   "cell_type": "code",
   "execution_count": 9,
   "id": "5673496a",
   "metadata": {
    "id": "5673496a",
    "outputId": "54f2a0e0-5c06-4d51-856a-eca4dcfffeb9"
   },
   "outputs": [
    {
     "data": {
      "text/html": [
       "<div>\n",
       "<style scoped>\n",
       "    .dataframe tbody tr th:only-of-type {\n",
       "        vertical-align: middle;\n",
       "    }\n",
       "\n",
       "    .dataframe tbody tr th {\n",
       "        vertical-align: top;\n",
       "    }\n",
       "\n",
       "    .dataframe thead th {\n",
       "        text-align: right;\n",
       "    }\n",
       "</style>\n",
       "<table border=\"1\" class=\"dataframe\">\n",
       "  <thead>\n",
       "    <tr style=\"text-align: right;\">\n",
       "      <th></th>\n",
       "      <th>Coefficient</th>\n",
       "    </tr>\n",
       "  </thead>\n",
       "  <tbody>\n",
       "    <tr>\n",
       "      <th>Absolute Magnitude</th>\n",
       "      <td>-2.031903e+02</td>\n",
       "    </tr>\n",
       "    <tr>\n",
       "      <th>Aphelion Dist</th>\n",
       "      <td>-1.091057e+02</td>\n",
       "    </tr>\n",
       "    <tr>\n",
       "      <th>Asc Node Longitude</th>\n",
       "      <td>2.569954e-01</td>\n",
       "    </tr>\n",
       "    <tr>\n",
       "      <th>Eccentricity</th>\n",
       "      <td>-9.466025e+02</td>\n",
       "    </tr>\n",
       "    <tr>\n",
       "      <th>Inclination</th>\n",
       "      <td>-1.071143e+01</td>\n",
       "    </tr>\n",
       "    <tr>\n",
       "      <th>Jupiter Tisserand Invariant</th>\n",
       "      <td>-1.435232e+03</td>\n",
       "    </tr>\n",
       "    <tr>\n",
       "      <th>Mean Anomaly</th>\n",
       "      <td>-1.676924e-02</td>\n",
       "    </tr>\n",
       "    <tr>\n",
       "      <th>Mean Motion</th>\n",
       "      <td>4.493095e+03</td>\n",
       "    </tr>\n",
       "    <tr>\n",
       "      <th>Minimum Orbit Intersection</th>\n",
       "      <td>-3.218633e+02</td>\n",
       "    </tr>\n",
       "    <tr>\n",
       "      <th>Miss Dist.(kilometers)</th>\n",
       "      <td>-3.408943e-07</td>\n",
       "    </tr>\n",
       "    <tr>\n",
       "      <th>Orbit Uncertainity</th>\n",
       "      <td>1.648768e+01</td>\n",
       "    </tr>\n",
       "    <tr>\n",
       "      <th>Perihelion Arg</th>\n",
       "      <td>3.221199e-02</td>\n",
       "    </tr>\n",
       "    <tr>\n",
       "      <th>Perihelion Distance</th>\n",
       "      <td>-1.665541e+02</td>\n",
       "    </tr>\n",
       "    <tr>\n",
       "      <th>Perihelion Time</th>\n",
       "      <td>1.781485e-03</td>\n",
       "    </tr>\n",
       "    <tr>\n",
       "      <th>Relative Velocity km per sec</th>\n",
       "      <td>7.315088e-01</td>\n",
       "    </tr>\n",
       "    <tr>\n",
       "      <th>Semi Major Axis</th>\n",
       "      <td>-1.378299e+02</td>\n",
       "    </tr>\n",
       "  </tbody>\n",
       "</table>\n",
       "</div>"
      ],
      "text/plain": [
       "                               Coefficient\n",
       "Absolute Magnitude           -2.031903e+02\n",
       "Aphelion Dist                -1.091057e+02\n",
       "Asc Node Longitude            2.569954e-01\n",
       "Eccentricity                 -9.466025e+02\n",
       "Inclination                  -1.071143e+01\n",
       "Jupiter Tisserand Invariant  -1.435232e+03\n",
       "Mean Anomaly                 -1.676924e-02\n",
       "Mean Motion                   4.493095e+03\n",
       "Minimum Orbit Intersection   -3.218633e+02\n",
       "Miss Dist.(kilometers)       -3.408943e-07\n",
       "Orbit Uncertainity            1.648768e+01\n",
       "Perihelion Arg                3.221199e-02\n",
       "Perihelion Distance          -1.665541e+02\n",
       "Perihelion Time               1.781485e-03\n",
       "Relative Velocity km per sec  7.315088e-01\n",
       "Semi Major Axis              -1.378299e+02"
      ]
     },
     "execution_count": 9,
     "metadata": {},
     "output_type": "execute_result"
    }
   ],
   "source": [
    "coeff_df = pd.DataFrame(regr.coef_, X.columns, columns=['Coefficient'])\n",
    "coeff_df"
   ]
  },
  {
   "cell_type": "code",
   "execution_count": 10,
   "id": "3d9721b1",
   "metadata": {
    "id": "3d9721b1",
    "outputId": "014d1ec2-b538-435c-bd39-dc28a6c43630"
   },
   "outputs": [
    {
     "data": {
      "text/plain": [
       "array([0.51341316, 0.15908179, 0.54967603, 0.52189167, 0.61483207,\n",
       "       0.62513649, 0.45294781, 0.45680873, 0.58197126, 0.60373121])"
      ]
     },
     "execution_count": 10,
     "metadata": {},
     "output_type": "execute_result"
    }
   ],
   "source": [
    "from sklearn.model_selection import cross_val_score\n",
    "scores = cross_val_score(regr, X_train, y_train, scoring = 'r2', cv=10)\n",
    "scores"
   ]
  },
  {
   "cell_type": "code",
   "execution_count": 11,
   "id": "f8e98cc2",
   "metadata": {
    "id": "f8e98cc2",
    "outputId": "0fad6dc9-715c-4f97-d004-12cb3ba1582c"
   },
   "outputs": [
    {
     "name": "stdout",
     "output_type": "stream",
     "text": [
      "Cross validated mean score: 0.5079490223887712\n"
     ]
    }
   ],
   "source": [
    "print(f'Cross validated mean score: {np.mean(scores)}')"
   ]
  },
  {
   "cell_type": "markdown",
   "id": "5c5caa75",
   "metadata": {},
   "source": [
    "## Linear Regression with skewness correction"
   ]
  },
  {
   "cell_type": "code",
   "execution_count": 12,
   "id": "d99c6a5d",
   "metadata": {},
   "outputs": [],
   "source": [
    "star_data_dropped4['Est Dia in M(max)'] = np.power((star_data_dropped4['Est Dia in M(max)']), 1/3)\n",
    "star_data_dropped4['Minimum Orbit Intersection'] = np.power((star_data_dropped4['Minimum Orbit Intersection']), 1/3)"
   ]
  },
  {
   "cell_type": "code",
   "execution_count": 13,
   "id": "c93b7114",
   "metadata": {},
   "outputs": [
    {
     "name": "stdout",
     "output_type": "stream",
     "text": [
      "Intercept: \n",
      " 30.876187297416315\n",
      "Coefficients: \n",
      " [-9.45811038e-01 -1.82149628e-01  3.27555919e-04 -1.01265585e+00\n",
      " -6.94105028e-03 -2.31905376e+00  6.90911794e-05  7.23331369e+00\n",
      " -9.81381953e-01  1.57221394e-09 -1.78823795e-02 -3.82327782e-05\n",
      " -1.70533236e-01  1.89839513e-06 -2.79376776e-03 -1.76341405e-01]\n",
      "\n",
      " \n",
      "\n",
      "Coefficient of determination: 0.9358134447079115\n",
      "Regression score is 0.930370827392485\n",
      "Mean squared error: 0.5283161495570761 \n",
      "Root Mean Square Error (RMSE) : 0.7268535956828418\n"
     ]
    },
    {
     "data": {
      "image/png": "[encoded data removed]",
      "text/plain": [
       "<Figure size 432x288 with 1 Axes>"
      ]
     },
     "metadata": {},
     "output_type": "display_data"
    },
    {
     "name": "stdout",
     "output_type": "stream",
     "text": [
      "\n",
      "\n",
      "Cross Val Scores:\n",
      "[0.93632162 0.87895413 0.93802057 0.92769821 0.94298542 0.94841445\n",
      " 0.92001804 0.93435287 0.94497852 0.93986201]\n",
      "Cross validated mean score: 0.931160584600051\n"
     ]
    }
   ],
   "source": [
    "X = star_data_dropped4[star_data_dropped4.columns.difference(['Hazardous', 'Est Dia in M(max)'])]\n",
    "X.head()\n",
    "\n",
    "y = star_data_dropped4['Est Dia in M(max)']\n",
    "y.head()\n",
    "\n",
    "from sklearn import linear_model\n",
    "X_train, X_test, y_train, y_test = train_test_split(X, y, test_size=0.2, random_state=2)\n",
    "regr = linear_model.LinearRegression()\n",
    "regr.fit(X_train, y_train)\n",
    "\n",
    "print('Intercept: \\n', regr.intercept_)\n",
    "print('Coefficients: \\n', regr.coef_)\n",
    "\n",
    "y_pred = regr.predict(X_test)\n",
    "\n",
    "import sklearn.metrics as metrics\n",
    "\n",
    "print('\\n \\n')\n",
    "print(f'Coefficient of determination: {metrics.r2_score(y_test, y_pred)}')\n",
    "print(f'Regression score is {regr.score(X_train, y_train)}')\n",
    "print(f'Mean squared error: {metrics.mean_squared_error(y_test, y_pred)} ')\n",
    "print(f'Root Mean Square Error (RMSE) : {np.sqrt(metrics.mean_squared_error(y_test, y_pred))}')\n",
    "\n",
    "\n",
    "plt.scatter(y_test, y_pred)\n",
    "plt.title('y_pred against y_test \\n WITH skewness corr')\n",
    "plt.xlabel('y_test')\n",
    "plt.ylabel('y_pred')\n",
    "plt.xlim(0,20)\n",
    "plt.ylim(0,20)\n",
    "plt.show()\n",
    "\n",
    "coeff_df = pd.DataFrame(regr.coef_, X.columns, columns=['Coefficient'])\n",
    "coeff_df\n",
    "\n",
    "from sklearn.model_selection import cross_val_score\n",
    "scores = cross_val_score(regr, X_train, y_train, scoring = 'r2', cv=10)\n",
    "print('\\n')\n",
    "print('Cross Val Scores:')\n",
    "print(scores)\n",
    "\n",
    "print(f'Cross validated mean score: {np.mean(scores)}')\n"
   ]
  },
  {
   "cell_type": "code",
   "execution_count": null,
   "id": "5d2daa19",
   "metadata": {
    "id": "5d2daa19"
   },
   "outputs": [],
   "source": []
  }
 ],
 "metadata": {
  "colab": {
   "collapsed_sections": [
    "55100f45",
    "7b6645f6",
    "a3846124",
    "373f5b92",
    "b24e4939",
    "fce48a1a",
    "ffca2a61",
    "c3687e76",
    "607ccaf0"
   ],
   "name": "proj1_data_prep_v4_logreg_randomforest_linreg.ipynb",
   "provenance": []
  },
  "kernelspec": {
   "display_name": "Python 3 (ipykernel)",
   "language": "python",
   "name": "python3"
  },
  "language_info": {
   "codemirror_mode": {
    "name": "ipython",
    "version": 3
   },
   "file_extension": ".py",
   "mimetype": "text/x-python",
   "name": "python",
   "nbconvert_exporter": "python",
   "pygments_lexer": "ipython3",
   "version": "3.9.7"
  }
 },
 "nbformat": 4,
 "nbformat_minor": 5
}
